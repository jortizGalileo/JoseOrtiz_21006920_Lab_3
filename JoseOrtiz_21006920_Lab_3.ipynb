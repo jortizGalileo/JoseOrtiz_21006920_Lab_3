{
 "cells": [
  {
   "cell_type": "markdown",
   "id": "da47b871-6c73-4393-be50-5d247e758c7e",
   "metadata": {},
   "source": [
    "- Universidad Galileo\n",
    "- Maestría en Inteligencia de negocios y Analítica\n",
    "- José Ricardo Ortiz Lara\n",
    "- Carné No.21006920\n",
    "- Ciencia de datos en Phyton, Sección L"
   ]
  },
  {
   "cell_type": "markdown",
   "id": "edccc1eb-827e-4ba0-8367-933db6eb8f1d",
   "metadata": {},
   "source": [
    "Entregable: Su entregable deber´a ser un link al repositorio de git que contiene el Jupyter Notebook donde resolvi´o los ejercicios planteados."
   ]
  },
  {
   "cell_type": "markdown",
   "id": "a081ffb5-0e58-41b8-8f5c-41c7f02316eb",
   "metadata": {},
   "source": [
    "1. Cree un procedimiento en Python dado un numero entero en decimal despliegue su representaci´on en n´umero binario."
   ]
  },
  {
   "cell_type": "code",
   "execution_count": 1,
   "id": "92801784-6455-4ad8-9d96-fb19d2f2b2be",
   "metadata": {},
   "outputs": [
    {
     "name": "stdin",
     "output_type": "stream",
     "text": [
      "Introduce el número a convertir a binario:  2150\n"
     ]
    },
    {
     "name": "stdout",
     "output_type": "stream",
     "text": [
      "100001100110\n"
     ]
    }
   ],
   "source": [
    "def conv_binario(decimal):\n",
    "    binario = ''\n",
    "    while decimal // 2 != 0:\n",
    "        binario = str(decimal % 2) + binario\n",
    "        decimal = decimal // 2\n",
    "    return str(decimal) + binario\n",
    "\n",
    "numero = int(input('Introduce el número a convertir a binario: '))\n",
    "print(conv_binario(numero))"
   ]
  },
  {
   "cell_type": "markdown",
   "id": "dfe6b390-24e1-40bc-93de-47f46fc2ecf3",
   "metadata": {},
   "source": [
    "2. Desarrolle en Python una función que devuelva verdadero, si un número entero que recibe como parámetro es primo y devuelva falso en el caso contrario."
   ]
  },
  {
   "cell_type": "code",
   "execution_count": null,
   "id": "f949bd6e-3bfb-493f-9495-7f4e21e47ee8",
   "metadata": {},
   "outputs": [],
   "source": [
    "def primo(numero):\n",
    "  if numero == 1:\n",
    "    return False\n",
    "  elif numero == 2:\n",
    "    return True\n",
    "  else:\n",
    "    for i in range (2, numero):\n",
    "      if numero % i == 0:\n",
    "        return True\n",
    "      else:\n",
    "        return False\n",
    "\n",
    "numero = int(input('Ingrese un numero y descubra si es primo: '))\n",
    "print(primo(numero))"
   ]
  },
  {
   "cell_type": "markdown",
   "id": "d7d7e7a0-a8c0-414e-b450-d3e18dd5158e",
   "metadata": {},
   "source": [
    "3. Haga un programa en Python que dada una lista de n números, calcule la desviación estándar del conjunto de números, para este ejercicio no puede utilizar ninguna función que resuelva el problema."
   ]
  },
  {
   "cell_type": "code",
   "execution_count": 30,
   "id": "68ee23dc-376a-40a0-a378-ab4797f695bf",
   "metadata": {},
   "outputs": [
    {
     "name": "stdin",
     "output_type": "stream",
     "text": [
      "Cuantos datos desea agregar:  3\n",
      "Ingrese sus datos:  5\n",
      "Ingrese sus datos:  6\n",
      "Ingrese sus datos:  7\n"
     ]
    },
    {
     "name": "stdout",
     "output_type": "stream",
     "text": [
      "La desviación estándar de la lista es: 0.816496580927726\n"
     ]
    }
   ],
   "source": [
    "lista= []\n",
    "cantidad = int(input(\"Cuantos datos desea agregar: \"))\n",
    "\n",
    "while cantidad>0:    \n",
    "    dato = int(input(\"Ingrese sus datos: \"))\n",
    "    lista.append(int(dato))\n",
    "    cantidad-=1\n",
    "\n",
    "print(\"La desviación estándar de la lista es: \" + str(dev_sta(lista)))"
   ]
  },
  {
   "cell_type": "code",
   "execution_count": 29,
   "id": "79ba50a2-dd0f-4ef0-a4c6-b35675e1e291",
   "metadata": {},
   "outputs": [],
   "source": [
    "def dev_sta(lista):\n",
    "    prom = sum(lista) / len(lista)\n",
    "    var = sum((l-prom)**2 for l in lista) / len(lista)\n",
    "    dev_sta = math.sqrt(var)\n",
    "    return dev_sta"
   ]
  },
  {
   "cell_type": "markdown",
   "id": "2b67e6dd-50c0-41a0-ac6d-5249ef8de4ac",
   "metadata": {},
   "source": [
    "4. Desarrolle en Python una función que dado un arreglo recorra el algoritmo de ordenamiento burbuja y devuelva un nuevo arreglo ordenado. Posteriormente cree una función main para probar su función."
   ]
  },
  {
   "cell_type": "code",
   "execution_count": 26,
   "id": "b61d4083-c5de-4af7-829b-cc9a70f56a4f",
   "metadata": {},
   "outputs": [],
   "source": [
    "def ordenamiento_burbuja(lista):\n",
    "    for n in range ( len(lista) - 1,0, -1):\n",
    "      for i in range (n):\n",
    "        if lista [ i] > lista  [ i+1]:\n",
    "          temp = lista [i]\n",
    "          lista [ i] = lista  [i+1 ]\n",
    "          lista [i+1] =temp"
   ]
  },
  {
   "cell_type": "code",
   "execution_count": 27,
   "id": "445cb444-8724-42cc-a807-328c8c0c178a",
   "metadata": {},
   "outputs": [
    {
     "name": "stdin",
     "output_type": "stream",
     "text": [
      "Cuantos datos desea agregar:  3\n",
      "Ingrese sus datos:  12\n",
      "Ingrese sus datos:  6\n",
      "Ingrese sus datos:  8\n"
     ]
    },
    {
     "name": "stdout",
     "output_type": "stream",
     "text": [
      "[6, 8, 12]\n"
     ]
    }
   ],
   "source": [
    "lista= []\n",
    "cantidad = int(input(\"Cuantos datos desea agregar: \"))\n",
    "\n",
    "while cantidad>0:    \n",
    "    dato = int(input(\"Ingrese sus datos: \"))\n",
    "    lista.append(int(dato))\n",
    "    cantidad-=1\n",
    "ordenamiento_burbuja(lista)\n",
    "print(lista)"
   ]
  },
  {
   "cell_type": "markdown",
   "id": "ca6ca635-9508-4e98-8ee6-8c9dacc654ba",
   "metadata": {},
   "source": [
    "5. Escriba una función en Python que dada una tupla de elementos (numeros o letras) esta se convierta a un string. Tomar nota del siguiente ejemplo: Si la entrada fuera: (10, 20, 40, 5, 70) La salida deber´ıa ser: 102040570\n"
   ]
  },
  {
   "cell_type": "code",
   "execution_count": null,
   "id": "ef626412-db13-4106-993d-d1665c4715e4",
   "metadata": {},
   "outputs": [],
   "source": [
    "Tupla = (10, \"asfd\", 40, \"a\", 70)\n",
    "string = \"\"\n",
    "\n",
    "for i in tupla\n",
    "    string = string + i\n",
    "\n",
    "print(string)\n"
   ]
  },
  {
   "cell_type": "markdown",
   "id": "76b24f49-2f6a-4711-bd9b-21325cad7fef",
   "metadata": {},
   "source": [
    "6. Cree un programa en Python que dada una lista de tuplas, elimine las tuplas que estan vacias. Tomar nota del siguiente ejemplo: Si la lista fuera: [(), (), (’X’,), (’a’, ’b’), (’a’, ’b’, ’c’), (’d’)] El resultado deber´ıa ser: [(’X’), (’a’, ’b’), (’a’, ’b’, ’c’), ’d’]\n"
   ]
  },
  {
   "cell_type": "code",
   "execution_count": 85,
   "id": "e54db41a-39ee-456b-8d8a-b87e03c1f673",
   "metadata": {
    "tags": []
   },
   "outputs": [
    {
     "name": "stdout",
     "output_type": "stream",
     "text": [
      "((10, 10, 10, 12), (30, 45, 56, 45), (81, 80, 39, 32))\n"
     ]
    }
   ],
   "source": [
    "tuplas = [(), (), (\"X\",), (\"a\", \"b\"), (\"a\", \"b\", \"c\"), (\"d\")]\n",
    "tuplas = [i for i in tuplas if i]\n",
    "\n",
    "print(tupla)"
   ]
  },
  {
   "cell_type": "markdown",
   "id": "4b1c4cbc-8a2e-4f8d-b1a9-3f6eeed6ba21",
   "metadata": {},
   "source": [
    "7. Cree una funci´on en Python que dada una tupla de tuplas con numeros, produzca una tupla con el promedio de cada tupla individual. Tomar nota del siguiente ejemplo: Si la tupla de entrada fuera: ((10, 10, 10, 12), (30, 45, 56, 45), (81, 80, 39, 32)) El resultado deber´ıa ser: (10.5, 44, 58)\n"
   ]
  },
  {
   "cell_type": "code",
   "execution_count": 88,
   "id": "0256f0b6-995c-471d-90ef-589bf7334747",
   "metadata": {},
   "outputs": [
    {
     "name": "stdout",
     "output_type": "stream",
     "text": [
      "El promedio de las tuplas es: (10.5, 44.0, 58.0)\n"
     ]
    }
   ],
   "source": [
    "lista = []\n",
    "tuplas = ((10, 10, 10, 12), (30, 45, 56, 45), (81, 80, 39, 32))\n",
    "\n",
    "for i in tuplas:\n",
    "    lista.append(sum(i)/len(i)) \n",
    "prom = tuple(lista)\n",
    "\n",
    "print(f\"El promedio de las tuplas dentro de la lista es: {prom}\" )"
   ]
  },
  {
   "cell_type": "code",
   "execution_count": null,
   "id": "39876622-1246-4a99-bb63-e7e778b7327a",
   "metadata": {},
   "outputs": [],
   "source": []
  },
  {
   "cell_type": "code",
   "execution_count": null,
   "id": "36a4ee1a-b8fe-4075-a1f6-9ebecb19ef67",
   "metadata": {},
   "outputs": [],
   "source": []
  },
  {
   "cell_type": "code",
   "execution_count": null,
   "id": "d5881fe5-d52e-4855-9362-8fb97aee16f3",
   "metadata": {},
   "outputs": [],
   "source": []
  },
  {
   "cell_type": "markdown",
   "id": "c22ede46-7245-41e2-9028-1e803ba3384a",
   "metadata": {},
   "source": []
  }
 ],
 "metadata": {
  "kernelspec": {
   "display_name": "Python 3 (ipykernel)",
   "language": "python",
   "name": "python3"
  },
  "language_info": {
   "codemirror_mode": {
    "name": "ipython",
    "version": 3
   },
   "file_extension": ".py",
   "mimetype": "text/x-python",
   "name": "python",
   "nbconvert_exporter": "python",
   "pygments_lexer": "ipython3",
   "version": "3.9.7"
  }
 },
 "nbformat": 4,
 "nbformat_minor": 5
}
